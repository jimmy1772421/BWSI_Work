{
 "cells": [
  {
   "cell_type": "markdown",
   "metadata": {},
   "source": [
    "# Pinhole Camera Model Practice Questions"
   ]
  },
  {
   "cell_type": "markdown",
   "metadata": {},
   "source": [
    "## Question 1: Perspective Projection"
   ]
  },
  {
   "cell_type": "markdown",
   "metadata": {},
   "source": [
    "A 3D point in the camera coordinate system is given by `p_c = [10, 5, 20]`. \n",
    "The camera has a focal length `f` of 50mm. \n",
    "Calculate the position of the projection of this point on the image plane in meters."
   ]
  },
  {
   "cell_type": "code",
   "execution_count": 35,
   "metadata": {},
   "outputs": [
    {
     "name": "stdout",
     "output_type": "stream",
     "text": [
      "Position of Projection: [[0.025 ]\n",
      " [0.0125]\n",
      " [1.    ]]\n"
     ]
    }
   ],
   "source": [
    "# Your code here\n",
    "import numpy as np\n",
    "\n",
    "f = 0.05  # Example focal length in mm\n",
    "D_point = np.array([10,5,20]).reshape(3,1)\n",
    "def calculate_position_of_projection ( focal_lengthA, D_point):\n",
    "    \"\"\"\n",
    "    Calculate the position of projection based on focal length and distance point.\n",
    "    \n",
    "    Parameters:\n",
    "    Focal_length (float): The focal length of the camera.\n",
    "    D_point (np.array): The distance point in 3D space.\n",
    "    \n",
    "    Returns:\n",
    "    np.array: The position of projection in 3D space.\n",
    "    \"\"\"\n",
    "    if focal_lengthA <= 0:\n",
    "        raise ValueError(\"Focal length must be a positive number.\")\n",
    "    \n",
    "    if D_point.shape != (3,1):\n",
    "        raise ValueError(\"D_point must be a 3D point represented as a numpy array of length 3.\")\n",
    "    # Calculate the position of projection\n",
    "    X= D_point[0, 0]\n",
    "    Y= D_point[1, 0]\n",
    "    Z= D_point[2, 0]\n",
    "    \n",
    "    if Z == 0:\n",
    "        raise ValueError(\"Z coordinate cannot be zero (point is on the camera plane).\")\n",
    "    \n",
    "    # Standard perspective projection formulas\n",
    "    u = focal_lengthA * (X / Z)\n",
    "    v = focal_lengthA * (Y / Z)\n",
    "    \n",
    "    return np.array([u,v,1]).reshape(3,1)\n",
    "\n",
    "position_of_projection = calculate_position_of_projection(f, D_point)\n",
    "print(\"Position of Projection:\", position_of_projection)\n"
   ]
  },
  {
   "cell_type": "markdown",
   "metadata": {},
   "source": [
    "---"
   ]
  },
  {
   "cell_type": "markdown",
   "metadata": {},
   "source": [
    "## Question 2: Conversion to Pixels"
   ]
  },
  {
   "cell_type": "code",
   "execution_count": null,
   "metadata": {},
   "outputs": [],
   "source": []
  },
  {
   "cell_type": "markdown",
   "metadata": {},
   "source": [
    "Given the projected point from Question 1, convert its coordinates from meters to pixels. \n",
    "Assume the following intrinsic parameters: \n",
    "- `s_x` = 800 pixels/meter\n",
    "- `s_y` = 800 pixels/meter\n",
    "- `o_x` = 320 pixels\n",
    "- `o_y` = 240 pixels\n",
    "What are the pixel coordinates `(u^I, v^I)`?"
   ]
  },
  {
   "cell_type": "code",
   "execution_count": 36,
   "metadata": {},
   "outputs": [
    {
     "name": "stdout",
     "output_type": "stream",
     "text": [
      "Pixel Coordinates: [[340.]\n",
      " [250.]\n",
      " [  1.]]\n"
     ]
    }
   ],
   "source": [
    "# Your code here\n",
    "s_x = 800\n",
    "s_y = 800\n",
    "o_x = 320\n",
    "o_y = 240\n",
    "intrinsic_params = np.array([[s_x,0,o_x],[0,s_y,o_y],[0,0,1]]).reshape(3,3)\n",
    "def POP_M_to_Pixel (position_of_projectionA, intrinsic_ParamsA):\n",
    "    \"\"\"\n",
    "    Convert the position of projection in meters to pixel coordinates.\n",
    "    \n",
    "    Parameters:\n",
    "    position_of_projection (np.array): The position of projection in meters.\n",
    "    image_size (tuple): The size of the image in pixels (width, height).\n",
    "    \n",
    "    Returns:\n",
    "    tuple: The pixel coordinates (u, v).\n",
    "    \"\"\"\n",
    "    return intrinsic_ParamsA@ position_of_projectionA\n",
    "\n",
    "pixel_coordinates = POP_M_to_Pixel(position_of_projection, intrinsic_params)\n",
    "\n",
    "print(\"Pixel Coordinates:\", pixel_coordinates)"
   ]
  },
  {
   "cell_type": "markdown",
   "metadata": {},
   "source": [
    "---"
   ]
  },
  {
   "cell_type": "markdown",
   "metadata": {},
   "source": [
    "## Question 3: Intrinsic Matrix"
   ]
  },
  {
   "cell_type": "markdown",
   "metadata": {},
   "source": [
    "Construct the intrinsic calibration matrix `K` using the parameters from Question 2, assuming no skew (`s_θ = 0`)."
   ]
  },
  {
   "cell_type": "code",
   "execution_count": 37,
   "metadata": {},
   "outputs": [
    {
     "name": "stdout",
     "output_type": "stream",
     "text": [
      "Intrinsic Calibration Matrix:\n",
      " [[ 40.   0. 320.]\n",
      " [  0.  40. 240.]\n",
      " [  0.   0.   1.]]\n"
     ]
    }
   ],
   "source": [
    "# Your code here\n",
    "s_theta = 0\n",
    "K = np.array([[s_x*f,s_theta*f,o_x],[0,s_y*f,o_y],[0,0,1]]).reshape(3,3)\n",
    "\n",
    "print(\"Intrinsic Calibration Matrix:\\n\", K)"
   ]
  },
  {
   "cell_type": "markdown",
   "metadata": {},
   "source": [
    "---"
   ]
  },
  {
   "cell_type": "markdown",
   "metadata": {},
   "source": [
    "## Question 4: Point Projection with Known Pose"
   ]
  },
  {
   "cell_type": "markdown",
   "metadata": {},
   "source": [
    "A point in the world frame is given by `p_w = [2, 3, 50]`. The camera's pose `T_w^c` is given by an identity rotation matrix and a translation vector `t_w^c = [0, 0, 10]`. [cite_start]Using the intrinsic matrix `K` from Question 3, calculate the pixel coordinates of the projected point. [cite: 14, 16, 17]"
   ]
  },
  {
   "cell_type": "code",
   "execution_count": null,
   "metadata": {},
   "outputs": [
    {
     "name": "stdout",
     "output_type": "stream",
     "text": [
      "cam pow: [[2.]\n",
      " [3.]\n",
      " [1.]]\n",
      "Projection Point in Pixel Coordinates: [[321.33333333]\n",
      " [242.        ]\n",
      " [  1.        ]]\n"
     ]
    }
   ],
   "source": [
    "# Your code here\n",
    "p_w = np.array([2,3,50,1]).reshape(4,1)\n",
    "t_w_c = np.array([0,0,10])\n",
    "r_w_c = np.array([[1,0,0],[0,1,0],[0,0,1]]).reshape(3,3)\n",
    "def calc_proj_point(p_w, t_w_c, r_w_c, k):\n",
    "    \"\"\"\n",
    "    Calculate the projection point in pixel coordinates.\n",
    "    \n",
    "    Parameters:\n",
    "    p_w (np.array): The world point in 3D space.\n",
    "    t_w_c (np.array): The translation vector from world to camera coordinates.\n",
    "    r_w_c (np.array): The rotation matrix from world to camera coordinates.\n",
    "    intrinsic_calibration_matrix (np.array): The intrinsic calibration matrix.\n",
    "    \n",
    "    Returns:\n",
    "    np.array: The projection point in pixel coordinates.\n",
    "    \"\"\"\n",
    "    extrinsic_matrix = np.hstack((r_w_c, t_w_c.reshape(3, 1)))  # Combine rotation and translation\n",
    "    project_P = k @ extrinsic_matrix @ p_w\n",
    "    \n",
    "    return project_P\n",
    "\n",
    "p_w_3 = np.array([2,3,50]).reshape(3,1)  # 3D point in world coordinates\n",
    "a= calculate_position_of_projection(50, p_w_3)  # Calculate position of projection\n",
    "\n",
    "print (\"cam pow:\", a)\n",
    "projection_point4 = calc_proj_point(p_w, t_w_c, r_w_c, K)/60 # Normalize by the third element\n",
    "print (\"Projection Point in Pixel Coordinates:\", projection_point4)\n"
   ]
  },
  {
   "cell_type": "markdown",
   "metadata": {},
   "source": [
    "---"
   ]
  },
  {
   "cell_type": "markdown",
   "metadata": {},
   "source": [
    "## Question 5: Radial Distortion"
   ]
  },
  {
   "cell_type": "markdown",
   "metadata": {},
   "source": [
    "A point is projected on the image plane at `(u_distort^I, v_distort^I) = (400, 350)` including radial distortion. Given distortion coefficients `a1 = 0.0001` and `a2 = 0.0000002` and the principal point `(o_x, o_y) = (320, 240)`, calculate the corrected pixel coordinates `(u^I, v^I)`."
   ]
  },
  {
   "cell_type": "code",
   "execution_count": 53,
   "metadata": {},
   "outputs": [
    {
     "name": "stdout",
     "output_type": "stream",
     "text": [
      "Corrected Pixel Coordinates: [[6024.]\n",
      " [8083.]]\n"
     ]
    }
   ],
   "source": [
    "# Your code here\n",
    "point_A = np.array([400,350])\n",
    "principal_point = np.array([320,240])\n",
    "a1 = 0.0001\n",
    "a2 = 0.0000002\n",
    "def corrected_pixel_coordinates(Point_aA, principal_pointA, a1A, a2A):\n",
    "    \"\"\"\n",
    "    Correct pixel coordinates to ensure they are within the image size.\n",
    "    \n",
    "    Parameters:\n",
    "    pixel_coordinates (np.array): The pixel coordinates to correct.\n",
    "    image_size (tuple): The size of the image in pixels (width, height).\n",
    "    \n",
    "    Returns:\n",
    "    np.array: The corrected pixel coordinates.\n",
    "    \"\"\"\n",
    "    r_2 = (Point_aA[0] - principal_pointA[0])**2 + (Point_aA[1] - principal_pointA[1])**2\n",
    "    r_4 = r_2**2\n",
    "    u_corrected = (1+a1A*r_2+a2A*r_4)*(Point_aA[0] - principal_pointA[0]) + principal_pointA[0]\n",
    "    v_corrected = (1+a1A*r_2+a2A*r_4)*(Point_aA[1] - principal_pointA[1]) + principal_pointA[1]\n",
    "    return np.array([u_corrected, v_corrected]).reshape(2, 1)\n",
    "\n",
    "corrected_coordinates = corrected_pixel_coordinates(point_A, principal_point, a1, a2)\n",
    "print(\"Corrected Pixel Coordinates:\", corrected_coordinates)"
   ]
  }
 ],
 "metadata": {
  "kernelspec": {
   "display_name": ".venv",
   "language": "python",
   "name": "python3"
  },
  "language_info": {
   "codemirror_mode": {
    "name": "ipython",
    "version": 3
   },
   "file_extension": ".py",
   "mimetype": "text/x-python",
   "name": "python",
   "nbconvert_exporter": "python",
   "pygments_lexer": "ipython3",
   "version": "3.13.1"
  }
 },
 "nbformat": 4,
 "nbformat_minor": 4
}
